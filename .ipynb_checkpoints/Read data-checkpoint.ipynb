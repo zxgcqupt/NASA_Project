{
 "cells": [
  {
   "cell_type": "code",
   "execution_count": 185,
   "metadata": {},
   "outputs": [
    {
     "name": "stdout",
     "output_type": "stream",
     "text": [
      "(64579, 97)\n"
     ]
    }
   ],
   "source": [
    "import pandas as pd\n",
    "import numpy as np\n",
    "from os import listdir\n",
    "\n",
    "root_path = './data'\n",
    "file = listdir(root_path)\n",
    "\n",
    "appended_data = []\n",
    "for file in listdir(root_path):\n",
    "    file_path = root_path + '/' + file.encode().decode('utf-8')\n",
    "    data_from_one_csv = pd.read_csv(file_path, skiprows=1)\n",
    "    appended_data.append(data_from_one_csv)\n",
    "    \n",
    "data = pd.concat(appended_data, axis=0)\n",
    "print (data.shape)"
   ]
  },
  {
   "cell_type": "code",
   "execution_count": 186,
   "metadata": {},
   "outputs": [],
   "source": [
    "X = data.drop(columns = 'Result')\n",
    "Y_raw = pd.DataFrame(data['Result'])\n",
    "\n",
    "processed_Y = []\n",
    "for index, row in Y_raw.iterrows():\n",
    "    #rint (index, row['Result'])\n",
    "    outcome = row['Result']\n",
    "    if type(outcome) == np.float:\n",
    "        res = 'unknown'\n",
    "    elif ';' in outcome:\n",
    "        res = str(outcome).split(';')[0]\n",
    "    processed_Y.append(res)"
   ]
  },
  {
   "cell_type": "code",
   "execution_count": 189,
   "metadata": {},
   "outputs": [
    {
     "data": {
      "text/plain": [
       "<bound method DataFrame.idxmax of                                                  Result\n",
       "0               Air Traffic Control Provided Assistance\n",
       "1               Air Traffic Control Provided Assistance\n",
       "2                 Flight Crew Regained Aircraft Control\n",
       "3                 Flight Crew Regained Aircraft Control\n",
       "4      Flight Crew Executed Go Around / Missed Approach\n",
       "5      Flight Crew Executed Go Around / Missed Approach\n",
       "6           Air Traffic Control Issued Advisory / Alert\n",
       "7           Air Traffic Control Issued Advisory / Alert\n",
       "8                                               unknown\n",
       "9                                               unknown\n",
       "10          Air Traffic Control Issued Advisory / Alert\n",
       "11            Flight Crew Landed In Emergency Condition\n",
       "12            Flight Crew Landed In Emergency Condition\n",
       "13            Flight Crew Landed In Emergency Condition\n",
       "14            Flight Crew Landed In Emergency Condition\n",
       "15                        General None Reported / Taken\n",
       "16                           General Maintenance Action\n",
       "17                           General Maintenance Action\n",
       "18          Air Traffic Control Issued Advisory / Alert\n",
       "19                                              unknown\n",
       "20                                 Flight Crew Diverted\n",
       "21               Flight Crew Overcame Equipment Problem\n",
       "22               Flight Crew Overcame Equipment Problem\n",
       "23               Flight Crew Overcame Equipment Problem\n",
       "24               Flight Crew Overcame Equipment Problem\n",
       "25               Flight Crew Overcame Equipment Problem\n",
       "26               Flight Crew Overcame Equipment Problem\n",
       "27               Flight Crew Overcame Equipment Problem\n",
       "28                        General None Reported / Taken\n",
       "29                        General None Reported / Taken\n",
       "...                                                 ...\n",
       "64549         Flight Crew Returned To Departure Airport\n",
       "64550           Air Traffic Control Provided Assistance\n",
       "64551       Air Traffic Control Issued Advisory / Alert\n",
       "64552          Air Traffic Control Issued New Clearance\n",
       "64553          Air Traffic Control Issued New Clearance\n",
       "64554          Air Traffic Control Issued New Clearance\n",
       "64555          Air Traffic Control Issued New Clearance\n",
       "64556           Air Traffic Control Provided Assistance\n",
       "64557           Air Traffic Control Provided Assistance\n",
       "64558          Air Traffic Control Issued New Clearance\n",
       "64559         Flight Crew Landed in Emergency Condition\n",
       "64560                   Flight Crew Took Evasive Action\n",
       "64561           Air Traffic Control Provided Assistance\n",
       "64562                  Flight Crew Landed As Precaution\n",
       "64563                  Flight Crew Landed As Precaution\n",
       "64564                  Flight Crew Landed As Precaution\n",
       "64565             Aircraft Equipment Problem Dissipated\n",
       "64566           Air Traffic Control Provided Assistance\n",
       "64567           Air Traffic Control Provided Assistance\n",
       "64568           Air Traffic Control Provided Assistance\n",
       "64569       Air Traffic Control Issued Advisory / Alert\n",
       "64570       Air Traffic Control Issued Advisory / Alert\n",
       "64571           Air Traffic Control Provided Assistance\n",
       "64572           Air Traffic Control Provided Assistance\n",
       "64573                   Flight Crew Took Evasive Action\n",
       "64574                   Flight Crew Took Evasive Action\n",
       "64575                   Flight Crew Took Evasive Action\n",
       "64576                              Flight Crew Diverted\n",
       "64577           Air Traffic Control Provided Assistance\n",
       "64578           Air Traffic Control Provided Assistance\n",
       "\n",
       "[64579 rows x 1 columns]>"
      ]
     },
     "execution_count": 189,
     "metadata": {},
     "output_type": "execute_result"
    }
   ],
   "source": [
    "Y = pd.DataFrame(processed_Y, columns = ['Result'])"
   ]
  },
  {
   "cell_type": "code",
   "execution_count": 95,
   "metadata": {},
   "outputs": [
    {
     "name": "stdout",
     "output_type": "stream",
     "text": [
      "The following values only exist in the single file\n",
      "Flight Phase1\n",
      "Flight Phase2\n",
      "Narrative1\n",
      "Narrative2\n",
      "\n",
      "The following values only exist in all the files\n",
      "Flight Phase\n",
      "Flight Phase.1\n",
      "Narrative\n",
      "Narrative.1\n",
      "Unnamed: 96\n"
     ]
    }
   ],
   "source": [
    "file_name = 'ASRS_DBOnline.csv'\n",
    "data_one_file = pd.read_csv(file_name)\n",
    "\n",
    "print ('The following values only exist in the single file')\n",
    "for item1 in data_one_file:\n",
    "    if item1 not in data.columns:\n",
    "        print (item1)\n",
    "        \n",
    "        \n",
    "print ('\\nThe following values only exist in all the files')\n",
    "for item1 in data:\n",
    "    if item1 not in data_one_file.columns:\n",
    "        print (item1)"
   ]
  },
  {
   "cell_type": "code",
   "execution_count": null,
   "metadata": {},
   "outputs": [],
   "source": []
  }
 ],
 "metadata": {
  "kernelspec": {
   "display_name": "Python 3",
   "language": "python",
   "name": "python3"
  },
  "language_info": {
   "codemirror_mode": {
    "name": "ipython",
    "version": 3
   },
   "file_extension": ".py",
   "mimetype": "text/x-python",
   "name": "python",
   "nbconvert_exporter": "python",
   "pygments_lexer": "ipython3",
   "version": "3.6.3"
  }
 },
 "nbformat": 4,
 "nbformat_minor": 2
}
