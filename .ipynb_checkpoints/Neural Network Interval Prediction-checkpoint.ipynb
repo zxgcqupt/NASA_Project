{
 "cells": [
  {
   "cell_type": "code",
   "execution_count": 57,
   "metadata": {},
   "outputs": [
    {
     "name": "stdout",
     "output_type": "stream",
     "text": [
      "Tensorflow version is 1.4.0\n"
     ]
    }
   ],
   "source": [
    "import tensorflow as tf\n",
    "print ('Tensorflow version is', tf.__version__)"
   ]
  },
  {
   "cell_type": "markdown",
   "metadata": {},
   "source": [
    "## create dataset"
   ]
  },
  {
   "cell_type": "code",
   "execution_count": 58,
   "metadata": {},
   "outputs": [
    {
     "data": {
      "text/plain": [
       "[<matplotlib.lines.Line2D at 0x291b0d5db38>]"
      ]
     },
     "execution_count": 58,
     "metadata": {},
     "output_type": "execute_result"
    },
    {
     "data": {
      "image/png": "[encoded data removed]",
      "text/plain": [
       "<matplotlib.figure.Figure at 0x291b32a5a20>"
      ]
     },
     "metadata": {},
     "output_type": "display_data"
    }
   ],
   "source": [
    "import numpy as np\n",
    "import matplotlib.pyplot as plt\n",
    "import pandas as pd\n",
    "\n",
    "data_size = 1000\n",
    "x = np.linspace(0, 50, data_size).astype(np.float32)\n",
    "noise = np.random.normal(loc = 0, scale = 0.1, size = (data_size))\n",
    "\n",
    "y = np.sin(x) + 0.6*x**0.5 + x/10 + noise\n",
    "y = y.astype(np.float32)\n",
    "\n",
    "%matplotlib inline\n",
    "plt.plot(x, y)"
   ]
  },
  {
   "cell_type": "code",
   "execution_count": 59,
   "metadata": {},
   "outputs": [],
   "source": [
    "from sklearn.model_selection import train_test_split\n",
    "x_train, x_test, y_train, y_test = train_test_split(x, y, test_size = 0.2, random_state = 101)"
   ]
  },
  {
   "cell_type": "markdown",
   "metadata": {},
   "source": [
    "## build deep learning prediction interval"
   ]
  },
  {
   "cell_type": "code",
   "execution_count": 65,
   "metadata": {},
   "outputs": [
    {
     "name": "stdout",
     "output_type": "stream",
     "text": [
      "Optimization Finished! 1529724.4259059373\n",
      "Optimization Finished! 1008.1380152759857\n",
      "Optimization Finished! 844.4915789531879\n",
      "Optimization Finished! 595.5394124877882\n",
      "Optimization Finished! 615.7130223254462\n",
      "Optimization Finished! 675.400912080428\n",
      "Optimization Finished! 795.3894480526692\n",
      "Optimization Finished! 1132.3099532755095\n",
      "Optimization Finished! 1040.9035523328314\n",
      "Optimization Finished! 1444.467271468145\n",
      "Optimization Finished! 1720.79228529671\n",
      "Optimization Finished! 1154.8087323516556\n",
      "Optimization Finished! 2145.54007012717\n",
      "Optimization Finished! 1441.2534438842508\n",
      "Optimization Finished! 1390.5234252053524\n",
      "Optimization Finished! 1538.4424081880413\n",
      "Optimization Finished! 2553.7080185415252\n",
      "Optimization Finished! 1732.1963576500884\n",
      "Optimization Finished! 1573.1657739698135\n",
      "Optimization Finished! 1627.906049096121\n",
      "Optimization Finished! 1241.8442083805667\n",
      "Optimization Finished! 1295.6234518630392\n",
      "Optimization Finished! 1396.7685964563902\n",
      "Optimization Finished! 1586.9312520009198\n",
      "Optimization Finished! 1356.4572003112062\n",
      "Optimization Finished! 2289.425073279587\n",
      "Optimization Finished! 2384.540639827249\n",
      "Optimization Finished! 1214.9202863394894\n",
      "Optimization Finished! 1338.2718092317714\n",
      "Optimization Finished! 1504.4292900843259\n",
      "Optimization Finished! 1401.9896985941687\n",
      "Optimization Finished! 1274.9958993528985\n",
      "Optimization Finished! 1864.4536186181006\n",
      "Optimization Finished! 1859.8341481970124\n",
      "Optimization Finished! 1505.210063728056\n",
      "Optimization Finished! 1239.5842774486093\n",
      "Optimization Finished! 1439.7033488941418\n",
      "Optimization Finished! 1205.9440446221106\n",
      "Optimization Finished! 1519.1243517912899\n",
      "Optimization Finished! 1288.8115675174981\n",
      "Optimization Finished! 1009.5783128889839\n",
      "Optimization Finished! 1453.5677766258743\n",
      "Optimization Finished! 1247.9676384990616\n",
      "Optimization Finished! 1373.1847461021373\n",
      "Optimization Finished! 1992.439328617147\n",
      "Optimization Finished! 1220.4736937499765\n",
      "Optimization Finished! 1220.8436327893096\n",
      "Optimization Finished! 1881.3589980162087\n",
      "Optimization Finished! 1203.990120392748\n",
      "Optimization Finished! 1002.6558148078273\n",
      "Optimization Finished! 1751.2881726304472\n",
      "Optimization Finished! 1401.230427246981\n",
      "Optimization Finished! 864.3585971413099\n",
      "Optimization Finished! 2485.7997729425238\n",
      "Optimization Finished! 1025.6236223149226\n",
      "Optimization Finished! 1111.4772981746605\n",
      "Optimization Finished! 1444.9027438753956\n",
      "Optimization Finished! 1612.2870101954634\n",
      "Optimization Finished! 1103.4119031068565\n",
      "Optimization Finished! 1071.7981872309572\n",
      "Optimization Finished! 2061.340803029295\n",
      "Optimization Finished! 1158.545179290013\n",
      "Optimization Finished! 937.4858920937028\n",
      "Optimization Finished! 1131.9578545587528\n",
      "Optimization Finished! 1049.0229343251194\n",
      "Optimization Finished! 1030.2879237427453\n",
      "Optimization Finished! 1135.6427373816093\n",
      "Optimization Finished! 882.816100469299\n",
      "Optimization Finished! 1038.1886306244069\n",
      "Optimization Finished! 985.1185646201993\n",
      "Optimization Finished! 905.4961716876769\n",
      "Optimization Finished! 895.3043481647946\n",
      "Optimization Finished! 1164.711902522529\n",
      "Optimization Finished! 1133.5610703101158\n",
      "Optimization Finished! 925.6487287523269\n",
      "Optimization Finished! 1378.3473193111524\n",
      "Optimization Finished! 1033.5986558472432\n",
      "Optimization Finished! 790.9512133295175\n",
      "Optimization Finished! 1066.539901246184\n",
      "Optimization Finished! 929.752856443376\n",
      "Optimization Finished! 1075.9131106905925\n",
      "Optimization Finished! 1115.6407245604596\n",
      "Optimization Finished! 935.9312960591328\n",
      "Optimization Finished! 892.9288880971926\n",
      "Optimization Finished! 826.8436014458186\n",
      "Optimization Finished! 1065.3366930554246\n",
      "Optimization Finished! 1262.5026376846881\n",
      "Optimization Finished! 812.3463914313961\n",
      "Optimization Finished! 784.2100584425013\n",
      "Optimization Finished! 953.5796503511051\n",
      "Optimization Finished! 950.1582394858293\n",
      "Optimization Finished! 737.0863476006816\n",
      "Optimization Finished! 1010.2524519077369\n",
      "Optimization Finished! 893.0976022450492\n",
      "Optimization Finished! 800.6148882535973\n",
      "Optimization Finished! 816.6210624871428\n",
      "Optimization Finished! 1085.4760024733014\n",
      "Optimization Finished! 1017.5518069011252\n",
      "Optimization Finished! 744.7273552606055\n",
      "Optimization Finished! 959.069425629288\n"
     ]
    }
   ],
   "source": [
    "import tensorflow as tf\n",
    "\n",
    "batch_size = 1\n",
    "\n",
    "## define the neural network\n",
    "X = tf.placeholder(tf.float32, shape=(1, batch_size))\n",
    "Y = tf.placeholder(tf.float32, shape=(1, batch_size))\n",
    "\n",
    "# Network Parameters\n",
    "n_hidden_1 = 20 # 1st layer number of neurons\n",
    "n_hidden_2 = 20 # 2nd layer number of neurons\n",
    "n_hidden_3 = 20\n",
    "\n",
    "# Store layers weight & bias\n",
    "weights = {\n",
    "    'h1': tf.Variable(tf.truncated_normal([batch_size, n_hidden_1])),\n",
    "    'h2': tf.Variable(tf.truncated_normal([n_hidden_1, n_hidden_2])),\n",
    "    'h3': tf.Variable(tf.truncated_normal([n_hidden_2, n_hidden_3])),\n",
    "    'out': tf.Variable(tf.truncated_normal([n_hidden_3, 1]))\n",
    "}\n",
    "\n",
    "biases = {\n",
    "    'b1': tf.Variable(tf.truncated_normal([n_hidden_1])),\n",
    "    'b2': tf.Variable(tf.truncated_normal([n_hidden_2])),\n",
    "    'b3': tf.Variable(tf.truncated_normal([n_hidden_3])),\n",
    "    'out': tf.Variable(tf.truncated_normal([1]))\n",
    "}\n",
    "\n",
    "# Create model\n",
    "def neural_net(x):\n",
    "    # Hidden fully connected layer with 20 neurons\n",
    "    layer_1 = tf.add(tf.matmul(x, weights['h1']), biases['b1'])\n",
    "    layer_1 = tf.nn.relu(layer_1)\n",
    "    \n",
    "    # Hidden fully connected layer with 20 neurons\n",
    "    layer_2 = tf.add(tf.matmul(layer_1, weights['h2']), biases['b2'])\n",
    "    layer_2 = tf.nn.relu(layer_2)\n",
    "    \n",
    "    layer_3 = tf.add(tf.matmul(layer_2, weights['h3']), biases['b3'])\n",
    "    layer_3 = tf.nn.relu(layer_3)\n",
    "    \n",
    "    # Output fully connected layer with a neuron\n",
    "    out_layer = tf.matmul(layer_3, weights['out']) + biases['out']\n",
    "    return out_layer\n",
    "\n",
    "## define loss function\n",
    "y_model = neural_net(X)\n",
    "\n",
    "# Define loss and optimizer\n",
    "loss_op = tf.reduce_mean(tf.square(y_model - Y))\n",
    "optimizer = tf.train.AdamOptimizer(learning_rate=0.0005)\n",
    "train_op = optimizer.minimize(loss_op)\n",
    "\n",
    "# Initialize the variables (i.e. assign their default value)\n",
    "init = tf.global_variables_initializer()\n",
    "\n",
    "# Start training\n",
    "loss_trace = []\n",
    "y_pred = np.zeros(shape = (len(x_test)))\n",
    "with tf.Session() as sess:\n",
    "    sess.run(init)\n",
    "    \n",
    "    for epoch in range(1000):\n",
    "        \n",
    "        total_loss = 0\n",
    "        num_batch = int(len(y_train)/batch_size)\n",
    "        \n",
    "        for (x, y) in zip(x_train, y_train):\n",
    "            # Run optimization op (backprop)\n",
    "            rand_ind = np.random.randint(len(x_train), size = batch_size)\n",
    "            batch_x, batch_y = x_train[rand_ind], y_train[rand_ind]\n",
    "            _, loss = sess.run([train_op, loss_op], feed_dict={X: np.reshape(x, (-1, batch_size)), \n",
    "                                                               Y: np.reshape(y, (-1, batch_size))})\n",
    "            total_loss += loss\n",
    "            \n",
    "        loss_trace.append(total_loss)\n",
    "        print(\"Optimization Finished!\", total_loss)\n",
    "    \n",
    "    for i in range(len(x_test)):\n",
    "        y_pred[i] = sess.run(y_model, feed_dict = {X: np.reshape(x_test[i], (-1, batch_size))})"
   ]
  },
  {
   "cell_type": "code",
   "execution_count": 66,
   "metadata": {},
   "outputs": [
    {
     "data": {
      "text/plain": [
       "[<matplotlib.lines.Line2D at 0x291b0d05a20>]"
      ]
     },
     "execution_count": 66,
     "metadata": {},
     "output_type": "execute_result"
    },
    {
     "data": {
      "image/png": "[encoded data removed]",
      "text/plain": [
       "<matplotlib.figure.Figure at 0x291b002ebe0>"
      ]
     },
     "metadata": {},
     "output_type": "display_data"
    }
   ],
   "source": [
    "plt.plot(np.log(loss_trace), 'r.')"
   ]
  },
  {
   "cell_type": "code",
   "execution_count": 67,
   "metadata": {},
   "outputs": [
    {
     "data": {
      "text/plain": [
       "[<matplotlib.lines.Line2D at 0x291b94e1cf8>]"
      ]
     },
     "execution_count": 67,
     "metadata": {},
     "output_type": "execute_result"
    },
    {
     "data": {
      "image/png": "[encoded data removed]",
      "text/plain": [
       "<matplotlib.figure.Figure at 0x291b96682b0>"
      ]
     },
     "metadata": {},
     "output_type": "display_data"
    }
   ],
   "source": [
    "plt.plot(y_pred, y_test, 'r.')"
   ]
  },
  {
   "cell_type": "code",
   "execution_count": null,
   "metadata": {},
   "outputs": [],
   "source": []
  }
 ],
 "metadata": {
  "kernelspec": {
   "display_name": "Python 3",
   "language": "python",
   "name": "python3"
  },
  "language_info": {
   "codemirror_mode": {
    "name": "ipython",
    "version": 3
   },
   "file_extension": ".py",
   "mimetype": "text/x-python",
   "name": "python",
   "nbconvert_exporter": "python",
   "pygments_lexer": "ipython3",
   "version": "3.6.3"
  }
 },
 "nbformat": 4,
 "nbformat_minor": 2
}
